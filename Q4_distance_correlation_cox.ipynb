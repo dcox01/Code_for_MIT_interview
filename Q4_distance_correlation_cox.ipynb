{
 "cells": [
  {
   "cell_type": "code",
   "execution_count": 138,
   "metadata": {},
   "outputs": [],
   "source": [
    "import numpy as np\n",
    "from numba import jit\n",
    "from scipy.spatial.distance import pdist, squareform\n",
    "import time\n",
    "import warnings\n",
    "warnings.filterwarnings('ignore')"
   ]
  },
  {
   "cell_type": "code",
   "execution_count": 139,
   "metadata": {},
   "outputs": [],
   "source": [
    "X= np.array([[1,2], [4,1], [3,2], [3, 3]])\n",
    "Y= np.array([[4,1], [3,2], [1,4], [2, 4]])"
   ]
  },
  {
   "cell_type": "code",
   "execution_count": 140,
   "metadata": {},
   "outputs": [],
   "source": [
    "a = np.array([1, 2, 3, 4, 5])\n",
    "b = np.array([3, 2, 4, 2, 1])"
   ]
  },
  {
   "cell_type": "code",
   "execution_count": 141,
   "metadata": {},
   "outputs": [],
   "source": [
    "@jit\n",
    "def distcorr(X, Y):\n",
    "    \"\"\"Calculates the distance correlation for two numpy arrays.\n",
    "    The arrays can be 1 or multidimensional.\n",
    "    \n",
    "    Modeled on code of satra at https://github.com/satra/mapalign/blob/master/mapalign/dist.py#L8\n",
    "    \n",
    "    Example 1:\n",
    "    >>> X= np.array([[1,2], [4,1], [3,2], [3, 3]])\n",
    "    >>> Y= np.array([[4,1], [3,2], [1,4], [2, 4]])\n",
    "    >>> distcorr(X, Y)\n",
    "    0.6908276670972249\n",
    "    \n",
    "    Example 2:\n",
    "    >>> a = np.array([1, 2, 3, 4, 5])\n",
    "    >>> b = np.array([3, 2, 4, 2, 1])\n",
    "    >>> distcorr(a, b)\n",
    "    0.5183052680392057\n",
    "    \"\"\"\n",
    "    \n",
    "    # check to see if all elements in X or Y are the same\n",
    "    XL = X.tolist()\n",
    "    YL = Y.tolist()\n",
    "    if XL.count(XL[0]) == len(XL) or YL.count(YL[0]) == len(YL):\n",
    "        raise Exception(\"All elements of one input are equal, cannot divide by zero\") \n",
    "    \n",
    "    # check to see if X and Y are the same length and dimension\n",
    "    if Y.shape != X.shape:\n",
    "        raise ValueError('Samples mismatch in lenght or dimension')\n",
    "        \n",
    "    # if necessary convert X and Y from 1D to 2D arrays\n",
    "    if len(X.shape) == 1:\n",
    "        X = np.atleast_2d(X).T\n",
    "        Y = np.atleast_2d(Y).T\n",
    "    \n",
    "    # Create pairwise distance matrices\n",
    "    a = squareform(pdist(X))\n",
    "    b = squareform(pdist(Y))\n",
    "    \n",
    "    # doubly center distances\n",
    "    A = a - a.mean(axis=0)[None, :] - a.mean(axis=1)[:, None] + a.mean()\n",
    "    B = b - b.mean(axis=0)[None, :] - b.mean(axis=1)[:, None] + b.mean()\n",
    "    \n",
    "    # determine n^2\n",
    "    n_squared = float(X.shape[0]**2)\n",
    "    \n",
    "    # calculate distance variances and covariances for XX, YY, XY\n",
    "    dcov2_xy = (A * B).sum()/n_squared\n",
    "    dcov2_xx = (A * A).sum()/n_squared\n",
    "    dcov2_yy = (B * B).sum()/n_squared\n",
    "    \n",
    "    # calculate distance covariance for XY\n",
    "    return dcov2_xy/np.sqrt(dcov2_xx * dcov2_yy)"
   ]
  },
  {
   "cell_type": "code",
   "execution_count": 142,
   "metadata": {},
   "outputs": [],
   "source": [
    "# Example \n",
    "X= np.array([[1,2], [4,1], [3,2], [3, 3]])\n",
    "Y= np.array([[4,1], [3,2], [1,4], [2, 4]])"
   ]
  },
  {
   "cell_type": "code",
   "execution_count": 143,
   "metadata": {},
   "outputs": [
    {
     "data": {
      "text/plain": [
       "0.6908276670972249"
      ]
     },
     "execution_count": 143,
     "metadata": {},
     "output_type": "execute_result"
    }
   ],
   "source": [
    "distcorr(X, Y)"
   ]
  },
  {
   "cell_type": "code",
   "execution_count": null,
   "metadata": {},
   "outputs": [],
   "source": []
  }
 ],
 "metadata": {
  "kernelspec": {
   "display_name": "Python 3",
   "language": "python",
   "name": "python3"
  },
  "language_info": {
   "codemirror_mode": {
    "name": "ipython",
    "version": 3
   },
   "file_extension": ".py",
   "mimetype": "text/x-python",
   "name": "python",
   "nbconvert_exporter": "python",
   "pygments_lexer": "ipython3",
   "version": "3.8.3"
  }
 },
 "nbformat": 4,
 "nbformat_minor": 4
}
